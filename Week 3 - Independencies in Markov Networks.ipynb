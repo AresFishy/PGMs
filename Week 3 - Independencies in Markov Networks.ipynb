{
 "cells": [
  {
   "cell_type": "markdown",
   "metadata": {},
   "source": [
    "### Separation in MNs:\n",
    "\n",
    "X and Y are separated in H given Z if there is no active trail in H (i.e. no observed variables in the trail).\n",
    "\n",
    "### Theorem:\n",
    "\n",
    "If P factorizes over H, and $sep_H(X,Y \\ | \\ Z)$ then P satisfies $(X \\perp Y \\ | \\ Z)$\n",
    "\n",
    "We say that H is an *I-map* of P if it satisfies these independencies.\n",
    "\n",
    "Also, for a **positive** distribution P (i.e. with all elements being >0), if H is an I-map for P, then P factorizes over H.\n",
    "\n"
   ]
  },
  {
   "cell_type": "markdown",
   "metadata": {},
   "source": []
  }
 ],
 "metadata": {
  "kernelspec": {
   "display_name": "Python 3",
   "language": "python",
   "name": "python3"
  },
  "language_info": {
   "codemirror_mode": {
    "name": "ipython",
    "version": 3
   },
   "file_extension": ".py",
   "mimetype": "text/x-python",
   "name": "python",
   "nbconvert_exporter": "python",
   "pygments_lexer": "ipython3",
   "version": "3.5.5"
  }
 },
 "nbformat": 4,
 "nbformat_minor": 2
}
