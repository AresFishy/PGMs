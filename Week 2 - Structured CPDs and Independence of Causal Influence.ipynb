{
 "cells": [
  {
   "cell_type": "markdown",
   "metadata": {},
   "source": [
    "## Structured CPDs\n",
    "\n",
    "**Tabular representations can be impractical**, e.g. when a variable has many possible parents. Even if everything is binary, the number of entries goes up by $O(2^k)$ in the case of $k$ parents.\n",
    "\n",
    "So we can use a general CPD that can specify the distribution over each variable given its parents.\n",
    "\n",
    "We can use any function to specify a factor $\\phi (X, Y_1, \\dotsc , Y_k)$ such that\n",
    "\n",
    "$$ \\Sigma_x \\phi (x, y_1, \\dotsc , y_k) = 1 \\text{for all } y_1, \\dotsc , y_k$$\n",
    "\n",
    "There are many ways to do this:\n",
    "\n",
    "* Deterministic CPDs\n",
    "\n",
    "* Tree-structured CPDs\n",
    "\n",
    "* Logistic CPDs\n",
    "\n",
    "* Linear Gaussians"
   ]
  },
  {
   "cell_type": "markdown",
   "metadata": {},
   "source": [
    "### Context-Specific Independence\n",
    "\n",
    "$$P \\models (X \\perp_c Y \\ | \\ Z, c)$$ \n",
    "\n",
    "E.g. $P(X,Y \\ | \\ Z,c) = P(X \\ | \\ Z,c)P(Y \\ | \\ Z,c)$"
   ]
  },
  {
   "cell_type": "markdown",
   "metadata": {},
   "source": [
    "### Tree-structured CPDs\n",
    "\n",
    "<img src=\"imgs/tree_pgm.png\" width=80%>\n",
    "\n",
    "Here we only need to represent 4 variables instead of 8\n",
    "\n",
    "Some tree-structured CPDs can also represent **non-context specific** independencies:\n",
    "\n",
    "<img src=\"imgs/ncs_treepgm.png\" width=80%>\n",
    "\n",
    "This structure is a **multiplexer CPD** \n",
    "\n",
    "<img src=\"imgs/multiplex_cpd.png\" width=80%>\n",
    "\n",
    "i.e. A tells us which version of Y do we need to copy\n"
   ]
  },
  {
   "cell_type": "markdown",
   "metadata": {},
   "source": [
    "## Independence of Causal Influence\n",
    "\n",
    "### Noisy OR CPD\n",
    "\n",
    "<img src=\"imgs/noisy_or.png\" width=85%>\n",
    "\n",
    "\n",
    "$$\\large P(Y = 0 \\mid X_1, \\dotsc , X_k) = (1 - \\lambda_0 ) \\prod_{i:X_i = 1} (1 - \\lambda_i)$$\n",
    "\n",
    "$z_0$ is the *leak term* \n",
    "\n",
    "Knowing that $Y = 0$ **blocks** the trail of influence between Xs\n",
    "\n",
    "<img src=\"imgs/noisyor_condind.png\" width=85%>\n",
    "\n",
    "### Aggregation:\n",
    "\n",
    "\n",
    "<img src=\"imgs/aggregate.png\" width=85%>\n",
    "\n",
    "\n",
    "### Sigmoid CPD\n",
    "\n",
    "If $x_i$ is discrete, $Z$ is continuous and influenced by $x_i$ by *weight $w_i$*\n",
    "\n",
    "$Z = w_0 + \\sum_{i=1}^{k} w_i X_i$\n",
    "\n",
    "We need to turn $Z$ into a sigmoid function:\n",
    "\n",
    "$\\sigma (z) = \\Large \\frac{e^z}{1+e^z}$"
   ]
  },
  {
   "cell_type": "code",
   "execution_count": null,
   "metadata": {},
   "outputs": [],
   "source": []
  }
 ],
 "metadata": {
  "kernelspec": {
   "display_name": "Python 3",
   "language": "python",
   "name": "python3"
  },
  "language_info": {
   "codemirror_mode": {
    "name": "ipython",
    "version": 3
   },
   "file_extension": ".py",
   "mimetype": "text/x-python",
   "name": "python",
   "nbconvert_exporter": "python",
   "pygments_lexer": "ipython3",
   "version": "3.5.5"
  }
 },
 "nbformat": 4,
 "nbformat_minor": 2
}
